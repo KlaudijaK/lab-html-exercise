products = ["t-shirt", "mug", "hat", "book", "keychain"]

inventory = {
    "t-shirt" : 5,
    "mug" : 10,
    "hat" : 20,
    "book" : 15,
    "keychain" : 30
}

customer_orders = set()

products.append(inventory)

print("Welcome to the product ordering system!")
print("Available products:", products)



while len(customer_orders) < 3:
    product = input("Enter a product to order (t-shirt, mug, hat, book, keychain): ").lower()
    if product in products:
        customer_orders.add(product)
    else:
        print("Invalid product. Please enter a valid product.")

print("Products ordered:", customer_orders)

total_products = len(customer_orders)
percentage = (total_products / len(products)) * 100
order_status = ("total_products ordered / percentage_ordered", total_products, percentage)
print(f"Total products ordered: {total_products}")
print(f"Percentage of products ordered: {percentage:.2f}%")

print("order statistics")
print(f"total products ordered: {order_status[0]}")
print(f"percentage of products ordered: {order_status[1]}:.2%")

print("Inventory status:")
for product in customer_orders:
    if inventory[product] > 0:
       inventory[product] -= 1
       
for product, quantity in inventory.items():
    print(f"{product}: {quantity}")

  